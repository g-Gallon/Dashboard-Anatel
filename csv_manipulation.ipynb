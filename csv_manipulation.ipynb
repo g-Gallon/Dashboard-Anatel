{
 "cells": [
  {
   "cell_type": "code",
   "execution_count": 3,
   "metadata": {},
   "outputs": [],
   "source": [
    "import pandas as pd\n",
    "import numpy as np\n",
    "import os\n",
    "import zipfile\n",
    "import pandas as pd"
   ]
  },
  {
   "cell_type": "code",
   "execution_count": null,
   "metadata": {},
   "outputs": [],
   "source": [
    "# Define the folder containing the zip files\n",
    "folder_path = './csv_data'\n",
    "\n",
    "# Loop through all the zip files in the folder\n",
    "for filename in os.listdir(folder_path):\n",
    "    if filename.endswith(\".zip\"):  # Check if the file is a zip file\n",
    "        zip_file_path = os.path.join(folder_path, filename)\n",
    "        \n",
    "        # Open the zip file\n",
    "        with zipfile.ZipFile(zip_file_path, 'r') as zip_ref:\n",
    "            # Loop through the files in the zip archive\n",
    "            for file_info in zip_ref.infolist():\n",
    "                if file_info.filename.endswith('.csv'):  # Check if the file is a CSV\n",
    "                    print(f\"Reading {file_info.filename} from {filename}\")\n",
    "                    \n",
    "                    # Read the CSV file into a pandas DataFrame\n",
    "                    with zip_ref.open(file_info) as csv_file:\n",
    "                        df = pd.read_csv(csv_file)\n",
    "                        \n",
    "                        # Now you can manipulate the DataFrame (df) as needed\n",
    "                        print(df.head())  # Display the first few rows of the CSV file\n",
    "                        \n",
    "                        # Example: Perform some data manipulation here\n",
    "                        # df['new_column'] = df['existing_column'] * 2  # Example manipulation\n",
    "                        \n",
    "                        # Optionally, you can save the manipulated DataFrame to a new CSV file\n",
    "                        # df.to_csv(f'processed_{file_info.filename}', index=False)\n"
   ]
  }
 ],
 "metadata": {
  "kernelspec": {
   "display_name": "Python 3",
   "language": "python",
   "name": "python3"
  },
  "language_info": {
   "codemirror_mode": {
    "name": "ipython",
    "version": 3
   },
   "file_extension": ".py",
   "mimetype": "text/x-python",
   "name": "python",
   "nbconvert_exporter": "python",
   "pygments_lexer": "ipython3",
   "version": "3.12.4"
  }
 },
 "nbformat": 4,
 "nbformat_minor": 2
}

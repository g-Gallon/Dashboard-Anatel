{
 "cells": [
  {
   "cell_type": "code",
   "execution_count": 20,
   "metadata": {},
   "outputs": [],
   "source": [
    "import time\n",
    "from selenium import webdriver\n",
    "from selenium.webdriver.common.by import By\n",
    "from selenium.webdriver.support.ui import WebDriverWait\n",
    "from selenium.webdriver.support import expected_conditions as EC\n",
    "from selenium.webdriver.support.ui import Select\n",
    "import pandas as pd"
   ]
  },
  {
   "cell_type": "code",
   "execution_count": 21,
   "metadata": {},
   "outputs": [],
   "source": [
    "# Setup Selenium WebDriver\n",
    "driver = webdriver.Chrome()\n",
    "\n",
    "# URL of the page to scrape\n",
    "url = 'https://sistemas.anatel.gov.br/se/public/view/b/licenciamento.php?view=licenciamento'\n",
    "driver.get(url)"
   ]
  },
  {
   "cell_type": "code",
   "execution_count": 22,
   "metadata": {},
   "outputs": [],
   "source": [
    "# Wait for the button to be clickable and click at the \"Filtrar\" option\n",
    "wait = WebDriverWait(driver, 20)\n",
    "filter_button = wait.until(EC.element_to_be_clickable((By.XPATH, '//*[@id=\"tblFilter\"]/span[5]')))\n",
    "# Click the button\n",
    "filter_button.click()"
   ]
  },
  {
   "cell_type": "code",
   "execution_count": 26,
   "metadata": {},
   "outputs": [],
   "source": [
    "# Locate the dropdown element by its ID\n",
    "dropdown = driver.find_element(By.ID, 'fc_8')\n",
    "\n",
    "# Create a Select object\n",
    "select = Select(dropdown)\n",
    "\n",
    "region = 'SP'\n",
    "# Select the option by visible text\n",
    "select.select_by_visible_text(region) "
   ]
  },
  {
   "cell_type": "code",
   "execution_count": 27,
   "metadata": {},
   "outputs": [],
   "source": [
    "# Locate the \"Atualizar\" button\n",
    "element = driver.find_element(By.XPATH, '//*[@id=\"tblFilter\"]/span[4]')\n",
    "\n",
    "#Click at the element\n",
    "element.click()"
   ]
  },
  {
   "cell_type": "code",
   "execution_count": 28,
   "metadata": {},
   "outputs": [],
   "source": [
    "# Locate the \"Download CSV\" button\n",
    "element = driver.find_element(By.XPATH, '//*[@id=\"download_csv\"]')\n",
    "\n",
    "#Click at the element\n",
    "element.click()"
   ]
  },
  {
   "cell_type": "code",
   "execution_count": null,
   "metadata": {},
   "outputs": [],
   "source": []
  },
  {
   "cell_type": "code",
   "execution_count": null,
   "metadata": {},
   "outputs": [],
   "source": []
  },
  {
   "cell_type": "code",
   "execution_count": null,
   "metadata": {},
   "outputs": [],
   "source": [
    "element = driver.find_element(By.XPATH, \"//td[@class='MenuEntryName' and text()='Guilherme']\")\n",
    "\n",
    "# Do something with the element, e.g., click or extract text\n",
    "print(element.text)"
   ]
  }
 ],
 "metadata": {
  "kernelspec": {
   "display_name": "Python 3",
   "language": "python",
   "name": "python3"
  },
  "language_info": {
   "codemirror_mode": {
    "name": "ipython",
    "version": 3
   },
   "file_extension": ".py",
   "mimetype": "text/x-python",
   "name": "python",
   "nbconvert_exporter": "python",
   "pygments_lexer": "ipython3",
   "version": "3.12.4"
  }
 },
 "nbformat": 4,
 "nbformat_minor": 2
}
